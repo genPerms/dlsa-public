{
 "cells": [
  {
   "cell_type": "code",
   "execution_count": 1,
   "id": "e6063203-7fee-4a45-9ef2-8fc6682ecd04",
   "metadata": {},
   "outputs": [
    {
     "name": "stderr",
     "output_type": "stream",
     "text": [
      "/Users/hetankevin/miniforge3/lib/python3.9/site-packages/jax/_src/lib/__init__.py:33: UserWarning: JAX on Mac ARM machines is experimental and minimally tested. Please see https://github.com/google/jax/issues/5501 in the event of problems.\n",
      "  warnings.warn(\"JAX on Mac ARM machines is experimental and minimally tested. \"\n"
     ]
    }
   ],
   "source": [
    "#optimal transport library\n",
    "import ot\n",
    "\n",
    "from sklearn.decomposition import PCA\n",
    "\n",
    "#bread and butter\n",
    "import pandas as pd\n",
    "import numpy as np\n",
    "\n",
    "import matplotlib.pyplot as plt\n",
    "import seaborn as sns\n",
    "\n",
    "#machine learning library\n",
    "import sklearn\n",
    "\n",
    "#statistics\n",
    "import scipy\n",
    "\n",
    "#machine learning library for time series\n",
    "import numba\n",
    "from numba import jit, njit\n",
    "\n",
    "import tqdm\n",
    "from tqdm import tqdm\n",
    "import copy\n",
    "import cvxpy as cp\n",
    "\n",
    "import matplotlib.pyplot as plt\n",
    "from mpl_toolkits.mplot3d import Axes3D\n",
    "%matplotlib inline\n",
    "#import numpy as tnp\n",
    "import warnings\n",
    "warnings.filterwarnings('ignore')\n",
    "\n",
    "import dfply\n",
    "from dfply import *\n",
    "import math\n",
    "import seaborn as sns\n",
    "from scipy import stats\n",
    "import sklearn\n",
    "from sklearn import covariance\n",
    "import itertools\n",
    "import copy\n",
    "import math\n",
    "\n",
    "\n",
    "import matplotlib.pyplot as plt\n",
    "import torch\n",
    "import datetime\n",
    "from datetime import date\n",
    "from eod import EodHistoricalData\n",
    "\n",
    "import os\n",
    "import warnings\n",
    "warnings.filterwarnings(\"ignore\")\n",
    "\n",
    "import tensorflow as tf\n",
    "import tensorflow.experimental.numpy as tnp\n",
    "tnp.experimental_enable_numpy_behavior()\n",
    "\n",
    "#import helpers\n",
    "import ray\n",
    "import pytz\n",
    "import time\n",
    "#misc\n",
    "%matplotlib inline\n",
    "plt.style.use('matplotlibrc')\n",
    "\n"
   ]
  },
  {
   "cell_type": "code",
   "execution_count": null,
   "id": "0142df5c-c844-49ce-975d-7a629af6495e",
   "metadata": {},
   "outputs": [],
   "source": []
  }
 ],
 "metadata": {
  "kernelspec": {
   "display_name": "Python 3 (ipykernel)",
   "language": "python",
   "name": "python3"
  },
  "language_info": {
   "codemirror_mode": {
    "name": "ipython",
    "version": 3
   },
   "file_extension": ".py",
   "mimetype": "text/x-python",
   "name": "python",
   "nbconvert_exporter": "python",
   "pygments_lexer": "ipython3",
   "version": "3.9.7"
  }
 },
 "nbformat": 4,
 "nbformat_minor": 5
}
